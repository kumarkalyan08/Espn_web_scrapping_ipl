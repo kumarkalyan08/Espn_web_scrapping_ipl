{
 "cells": [
  {
   "cell_type": "code",
   "execution_count": 1,
   "id": "367dfee0-e9f6-4235-b316-59651c7dca04",
   "metadata": {},
   "outputs": [],
   "source": [
    "import pandas as pd\n",
    "import numpy as np\n",
    "import requests\n",
    "from bs4 import BeautifulSoup\n",
    "from playwright.async_api import async_playwright,TimeoutError as PlayWrightError"
   ]
  },
  {
   "cell_type": "code",
   "execution_count": 2,
   "id": "9a525114-f680-47a2-8d94-a64f5bed118f",
   "metadata": {},
   "outputs": [],
   "source": [
    "import time"
   ]
  },
  {
   "cell_type": "code",
   "execution_count": 3,
   "id": "c2a685bf-0fd0-4edb-8430-2012f4e4caad",
   "metadata": {},
   "outputs": [],
   "source": [
    "url='https://stats.espncricinfo.com/ci/engine/stats/index.html'\n",
    "#https://www.espncricinfo.com/records/trophy/indian-premier-league-117"
   ]
  },
  {
   "cell_type": "code",
   "execution_count": 4,
   "id": "a3c9c767-7167-4c30-9087-9e28ea79623a",
   "metadata": {},
   "outputs": [],
   "source": [
    "headers={'user-agent':'Mozilla/5.0 (Macintosh; Intel Mac OS X 10_15_7) AppleWebKit/605.1.15 (KHTML, like Gecko) Version/17.6 Safari/605.1.15'}"
   ]
  },
  {
   "cell_type": "code",
   "execution_count": 5,
   "id": "f6bb7446-692c-4033-85fa-82bfac6b3809",
   "metadata": {},
   "outputs": [],
   "source": [
    "async def get_html_content(url,selector,retries=3,sleep=5):\n",
    "    html=None\n",
    "    for i in range(1,retries+1):\n",
    "        time.sleep(sleep*i)\n",
    "        try:\n",
    "            async with async_playwright() as p:\n",
    "                #Opens browser\n",
    "                browser=await p.chromium.launch()\n",
    "                #opens a new tab\n",
    "                page= await browser.new_page()\n",
    "                #will search for the  url\n",
    "                await page.goto(url)\n",
    "                print(await page.title())\n",
    "                #gathers the html data\n",
    "                html=await page.inner_html(selector)\n",
    "                await browser.close()\n",
    "              \n",
    "        except PlayWrightError:\n",
    "             print(f'issue with the given {url}')\n",
    "             continue\n",
    "        \n",
    "        break\n",
    "    return html\n",
    "     \n",
    "            \n",
    "        \n",
    "        \n",
    "    \n",
    "    "
   ]
  },
  {
   "cell_type": "code",
   "execution_count": 6,
   "id": "406699ba-8e11-48e2-813c-5c01774dbc89",
   "metadata": {},
   "outputs": [],
   "source": [
    "from urllib.parse import urljoin"
   ]
  },
  {
   "cell_type": "code",
   "execution_count": 7,
   "id": "d0eda94b-55e9-4eb3-98bb-cea2c9c5f412",
   "metadata": {},
   "outputs": [],
   "source": [
    "async def get_html_content2(url, selector, retries=3, sleep=5):\n",
    "    html_list = []  # To store the HTML of all matching elements\n",
    "    for i in range(1, retries + 1):\n",
    "        time.sleep(sleep * i)\n",
    "        try:\n",
    "            async with async_playwright() as p:\n",
    "                #opens browser\n",
    "                browser = await p.chromium.launch()\n",
    "                #opens new page\n",
    "                page = await browser.new_page()\n",
    "                #will search for provided url\n",
    "                await page.goto(url)\n",
    "                print(await page.title())\n",
    "\n",
    "                # Use page.locator() to get all matching elements\n",
    "                elements = await page.locator(selector).all()  # Fetch all matching elements\n",
    "                \n",
    "                # Loop through each element and retrieve the inner HTML\n",
    "                for element in elements:\n",
    "                    html = await element.inner_html()\n",
    "                    html_list.append(html)\n",
    "                \n",
    "                await browser.close()\n",
    "\n",
    "        except PlaywrightError:\n",
    "            print(f'Issue with the given {url}')\n",
    "            continue\n",
    "        \n",
    "        break\n",
    "    return html_list  # Return a list of inner HTML for all matching elements\n",
    "\n"
   ]
  },
  {
   "cell_type": "markdown",
   "id": "600c5d52-92ae-4816-b01e-85e2f1901c66",
   "metadata": {},
   "source": [
    "starting url: https://stats.espncricinfo.com/ci/engine/stats/index.html"
   ]
  },
  {
   "cell_type": "code",
   "execution_count": 8,
   "id": "85b84468-033e-4a0d-9c58-d7631214c968",
   "metadata": {},
   "outputs": [
    {
     "name": "stdout",
     "output_type": "stream",
     "text": [
      "Statsguru | Searchable Cricket Statistics database | ESPNcricinfo.com\n",
      "Indian Premier League Records - Cricket's Remarkable Feats\n",
      "12\n"
     ]
    }
   ],
   "source": [
    "#From the starting url grabs all the tabs\n",
    "html_content=await get_html_content(url,'#subnav_tier1.subnav_tier1.subnav-item-wrap')\n",
    "html_content= BeautifulSoup(html_content,'html.parser')\n",
    "from urllib.parse import urljoin\n",
    "#Filter out the ipl tab\n",
    "hrefs= [each['href'] for each in html_content.find_all('a') if each and each.text.strip().lower()==\"ipl\"]\n",
    "url2=urljoin(\"https://www.espncricinfo.com\",hrefs[0])\n",
    "#gives a list of html that matches the selector\n",
    "html_list=await get_html_content2(url2,'ul.ds-flex.ds-flex-col')\n",
    "print(len(html_list))\n",
    "list_of_links=[]\n",
    "#The below loop gives the links of various tabs\n",
    "for index,each in enumerate(html_list):\n",
    "    html_1=BeautifulSoup(each)\n",
    "    #print(html_1)\n",
    "    #print('The next one is')\n",
    "    #print(\"  \")\n",
    "    for ind in html_1.find_all('a'):\n",
    "        list_of_links.append(ind['href'])\n",
    "#filter the list\n",
    "\n",
    "        \n",
    "        \n",
    "        \n",
    "    \n",
    "    \n",
    "\n",
    "\n",
    "\n",
    "\n",
    "\n"
   ]
  },
  {
   "cell_type": "code",
   "execution_count": 9,
   "id": "3d6e3bb9-52e0-402e-9b18-698aa9425ef8",
   "metadata": {},
   "outputs": [],
   "source": [
    "batting_filtered_lists=[]\n",
    "bowling_filtered_lists=[]\n",
    "for each in list_of_links:\n",
    "    #filter only batting averages list\n",
    "    if 'team' in each and 'averages' in each and 'batting' in each:\n",
    "        #https://www.espncricinfo.com/records/trophy/averages-batting/indian-premier-league-117?team=4343\n",
    "        base='https://www.espncricinfo.com'\n",
    "        each=urljoin(base,each)\n",
    "        batting_filtered_lists.append(each)\n",
    "    if 'team' in each and 'averages' in each and 'bowling' in each:\n",
    "        base='https://www.espncricinfo.com'\n",
    "        each=urljoin(base,each)\n",
    "        bowling_filtered_lists.append(each)"
   ]
  },
  {
   "cell_type": "code",
   "execution_count": 10,
   "id": "a54bcc08-f4f2-4568-90c3-7cb3d9d9e077",
   "metadata": {},
   "outputs": [
    {
     "data": {
      "text/plain": [
       "['https://www.espncricinfo.com/records/trophy/averages-batting/indian-premier-league-117?team=4343',\n",
       " 'https://www.espncricinfo.com/records/trophy/averages-batting/indian-premier-league-117?team=4347',\n",
       " 'https://www.espncricinfo.com/records/trophy/averages-batting/indian-premier-league-117?team=4344',\n",
       " 'https://www.espncricinfo.com/records/trophy/averages-batting/indian-premier-league-117?team=5845',\n",
       " 'https://www.espncricinfo.com/records/trophy/averages-batting/indian-premier-league-117?team=6904',\n",
       " 'https://www.espncricinfo.com/records/trophy/averages-batting/indian-premier-league-117?team=4342',\n",
       " 'https://www.espncricinfo.com/records/trophy/averages-batting/indian-premier-league-117?team=4788',\n",
       " 'https://www.espncricinfo.com/records/trophy/averages-batting/indian-premier-league-117?team=4341',\n",
       " 'https://www.espncricinfo.com/records/trophy/averages-batting/indian-premier-league-117?team=6903',\n",
       " 'https://www.espncricinfo.com/records/trophy/averages-batting/indian-premier-league-117?team=4346',\n",
       " 'https://www.espncricinfo.com/records/trophy/averages-batting/indian-premier-league-117?team=4787',\n",
       " 'https://www.espncricinfo.com/records/trophy/averages-batting/indian-premier-league-117?team=4345',\n",
       " 'https://www.espncricinfo.com/records/trophy/averages-batting/indian-premier-league-117?team=5843',\n",
       " 'https://www.espncricinfo.com/records/trophy/averages-batting/indian-premier-league-117?team=4340',\n",
       " 'https://www.espncricinfo.com/records/trophy/averages-batting/indian-premier-league-117?team=5143']"
      ]
     },
     "execution_count": 10,
     "metadata": {},
     "output_type": "execute_result"
    }
   ],
   "source": [
    "batting_filtered_lists"
   ]
  },
  {
   "cell_type": "code",
   "execution_count": 11,
   "id": "f79cf3a9-1bfd-48a8-ab85-f19effc50412",
   "metadata": {},
   "outputs": [
    {
     "data": {
      "text/plain": [
       "['https://www.espncricinfo.com/records/trophy/averages-bowling/indian-premier-league-117?team=4343',\n",
       " 'https://www.espncricinfo.com/records/trophy/averages-bowling/indian-premier-league-117?team=4347',\n",
       " 'https://www.espncricinfo.com/records/trophy/averages-bowling/indian-premier-league-117?team=4344',\n",
       " 'https://www.espncricinfo.com/records/trophy/averages-bowling/indian-premier-league-117?team=5845',\n",
       " 'https://www.espncricinfo.com/records/trophy/averages-bowling/indian-premier-league-117?team=6904',\n",
       " 'https://www.espncricinfo.com/records/trophy/averages-bowling/indian-premier-league-117?team=4342',\n",
       " 'https://www.espncricinfo.com/records/trophy/averages-bowling/indian-premier-league-117?team=4788',\n",
       " 'https://www.espncricinfo.com/records/trophy/averages-bowling/indian-premier-league-117?team=4341',\n",
       " 'https://www.espncricinfo.com/records/trophy/averages-bowling/indian-premier-league-117?team=6903',\n",
       " 'https://www.espncricinfo.com/records/trophy/averages-bowling/indian-premier-league-117?team=4346',\n",
       " 'https://www.espncricinfo.com/records/trophy/averages-bowling/indian-premier-league-117?team=4787',\n",
       " 'https://www.espncricinfo.com/records/trophy/averages-bowling/indian-premier-league-117?team=4345',\n",
       " 'https://www.espncricinfo.com/records/trophy/averages-bowling/indian-premier-league-117?team=5843',\n",
       " 'https://www.espncricinfo.com/records/trophy/averages-bowling/indian-premier-league-117?team=4340',\n",
       " 'https://www.espncricinfo.com/records/trophy/averages-bowling/indian-premier-league-117?team=5143']"
      ]
     },
     "execution_count": 11,
     "metadata": {},
     "output_type": "execute_result"
    }
   ],
   "source": [
    "bowling_filtered_lists"
   ]
  },
  {
   "cell_type": "code",
   "execution_count": 35,
   "id": "725a8467-bc76-445b-9010-524bb2ed7212",
   "metadata": {},
   "outputs": [],
   "source": [
    "async def getting_averages(list1):\n",
    "    print(list1[0])\n",
    "    if 'batting' in list1[0]:\n",
    "      batting_list=[]\n",
    "    else:\n",
    "        bowling_list=[]\n",
    "    for each_link in list1:\n",
    "        #gets the table from the given link\n",
    "        table_content=await get_html_content(each_link,'table')\n",
    "        #To capture the team name\n",
    "        table_heading=await get_html_content(each_link,'h1.ds-text-title-m.ds-font-bold.ds-my-4')\n",
    "        table_heading=BeautifulSoup(table_heading,'html.parser')\n",
    "        table_heading=str(table_heading).split('-')[1]\n",
    "        table_content=BeautifulSoup(table_content,'html.parser')\n",
    "        #to get the headers of the table\n",
    "        table_head= table_content.find_all('thead')\n",
    "        table_body= table_content.find_all('tbody')\n",
    "        #stores all the headers in a list\n",
    "        headers_list=[]\n",
    "        for each_span in table_head[0].find_all('span'):\n",
    "            headers_list.append(each_span.text.strip())\n",
    "        #print(headers_list)\n",
    "        #table_heading=str(table_heading).split('-')[1].strip()\n",
    "        for i in table_body[0].find_all('tr'):\n",
    "            #print(i)\n",
    "            players_list=[]\n",
    "            #print('going to loop')\n",
    "            for each in i.find_all('span'):     \n",
    "                #players_dict[headers_list[count]]=each.text.strip()\n",
    "                players_list.append(each.text.strip())\n",
    "                #print(\"The next one\")\n",
    "            #print(players_list)\n",
    "            #As player name captures twice removing  the first one.\n",
    "            players_list.pop(0)\n",
    "            #print(players_list)\n",
    "            players_dict={}\n",
    "            for x,y in zip(headers_list,players_list):\n",
    "                players_dict[x]=y\n",
    "            players_dict['team_name']= table_heading\n",
    "            if 'batting' in list[0]:\n",
    "                batting_list.append(players_dict)\n",
    "                #print(batting_list)\n",
    "                \n",
    "            else:\n",
    "                bowling_list.append(players_dict)\n",
    "                \n",
    "                #print(bowling_list)\n",
    "    if 'batting' in list[0]:\n",
    "          return batting_list\n",
    "    else:\n",
    "          return bowling_list\n"
   ]
  },
  {
   "cell_type": "code",
   "execution_count": 28,
   "id": "00825469-caed-4747-be81-c20862adbdb2",
   "metadata": {},
   "outputs": [
    {
     "name": "stdout",
     "output_type": "stream",
     "text": [
      "Indian Premier League Trophy averages batting | ESPNcricinfo\n",
      "Indian Premier League Trophy averages batting | ESPNcricinfo\n",
      "Indian Premier League Trophy averages batting | ESPNcricinfo\n",
      "Indian Premier League Trophy averages batting | ESPNcricinfo\n",
      "Indian Premier League Trophy averages batting | ESPNcricinfo\n",
      "Indian Premier League Trophy averages batting | ESPNcricinfo\n",
      "Indian Premier League Trophy averages batting | ESPNcricinfo\n",
      "Indian Premier League Trophy averages batting | ESPNcricinfo\n",
      "Indian Premier League Trophy averages batting | ESPNcricinfo\n",
      "Indian Premier League Trophy averages batting | ESPNcricinfo\n",
      "Indian Premier League Trophy averages batting | ESPNcricinfo\n",
      "Indian Premier League Trophy averages batting | ESPNcricinfo\n",
      "Indian Premier League Trophy averages batting | ESPNcricinfo\n",
      "Indian Premier League Trophy averages batting | ESPNcricinfo\n",
      "Indian Premier League Trophy averages batting | ESPNcricinfo\n",
      "Indian Premier League Trophy averages batting | ESPNcricinfo\n",
      "Indian Premier League Trophy averages batting | ESPNcricinfo\n",
      "Indian Premier League Trophy averages batting | ESPNcricinfo\n",
      "Indian Premier League Trophy averages batting | ESPNcricinfo\n",
      "Indian Premier League Trophy averages batting | ESPNcricinfo\n",
      "Indian Premier League Trophy averages batting | ESPNcricinfo\n",
      "Indian Premier League Trophy averages batting | ESPNcricinfo\n",
      "Indian Premier League Trophy averages batting | ESPNcricinfo\n",
      "Indian Premier League Trophy averages batting | ESPNcricinfo\n",
      "Indian Premier League Trophy averages batting | ESPNcricinfo\n",
      "Indian Premier League Trophy averages batting | ESPNcricinfo\n",
      "Indian Premier League Trophy averages batting | ESPNcricinfo\n",
      "Indian Premier League Trophy averages batting | ESPNcricinfo\n",
      "Indian Premier League Trophy averages batting | ESPNcricinfo\n",
      "Indian Premier League Trophy averages batting | ESPNcricinfo\n"
     ]
    }
   ],
   "source": [
    "batting_averages=await getting_averages(batting_filtered_lists)\n"
   ]
  },
  {
   "cell_type": "code",
   "execution_count": 36,
   "id": "6c4b4de0-8f28-490f-948f-fabbfdf29ca0",
   "metadata": {},
   "outputs": [
    {
     "name": "stdout",
     "output_type": "stream",
     "text": [
      "https://www.espncricinfo.com/records/trophy/averages-bowling/indian-premier-league-117?team=4343\n",
      "Indian Premier League Trophy averages bowling | ESPNcricinfo\n",
      "Indian Premier League Trophy averages bowling | ESPNcricinfo\n",
      "Indian Premier League Trophy averages bowling | ESPNcricinfo\n",
      "Indian Premier League Trophy averages bowling | ESPNcricinfo\n",
      "Indian Premier League Trophy averages bowling | ESPNcricinfo\n",
      "Indian Premier League Trophy averages bowling | ESPNcricinfo\n",
      "Indian Premier League Trophy averages bowling | ESPNcricinfo\n",
      "Indian Premier League Trophy averages bowling | ESPNcricinfo\n",
      "Indian Premier League Trophy averages bowling | ESPNcricinfo\n",
      "Indian Premier League Trophy averages bowling | ESPNcricinfo\n",
      "Indian Premier League Trophy averages bowling | ESPNcricinfo\n",
      "Indian Premier League Trophy averages bowling | ESPNcricinfo\n",
      "Indian Premier League Trophy averages bowling | ESPNcricinfo\n",
      "Indian Premier League Trophy averages bowling | ESPNcricinfo\n",
      "Indian Premier League Trophy averages bowling | ESPNcricinfo\n",
      "Indian Premier League Trophy averages bowling | ESPNcricinfo\n",
      "Indian Premier League Trophy averages bowling | ESPNcricinfo\n",
      "Indian Premier League Trophy averages bowling | ESPNcricinfo\n",
      "Indian Premier League Trophy averages bowling | ESPNcricinfo\n",
      "Indian Premier League Trophy averages bowling | ESPNcricinfo\n",
      "Indian Premier League Trophy averages bowling | ESPNcricinfo\n",
      "Indian Premier League Trophy averages bowling | ESPNcricinfo\n",
      "Indian Premier League Trophy averages bowling | ESPNcricinfo\n",
      "Indian Premier League Trophy averages bowling | ESPNcricinfo\n",
      "Indian Premier League Trophy averages bowling | ESPNcricinfo\n",
      "Indian Premier League Trophy averages bowling | ESPNcricinfo\n",
      "Indian Premier League Trophy averages bowling | ESPNcricinfo\n",
      "Indian Premier League Trophy averages bowling | ESPNcricinfo\n",
      "Indian Premier League Trophy averages bowling | ESPNcricinfo\n",
      "Indian Premier League Trophy averages bowling | ESPNcricinfo\n"
     ]
    }
   ],
   "source": [
    "bowling_averages=await getting_averages(bowling_filtered_lists)"
   ]
  },
  {
   "cell_type": "code",
   "execution_count": 30,
   "id": "8e08c69a-0676-4991-906f-9bcaa31cc129",
   "metadata": {},
   "outputs": [],
   "source": [
    "ipl_batting_averages=pd.DataFrame(batting_averages)"
   ]
  },
  {
   "cell_type": "code",
   "execution_count": 31,
   "id": "9da6140a-283e-4b1c-ac6a-8b625e0e711b",
   "metadata": {},
   "outputs": [
    {
     "data": {
      "text/html": [
       "<div>\n",
       "<style scoped>\n",
       "    .dataframe tbody tr th:only-of-type {\n",
       "        vertical-align: middle;\n",
       "    }\n",
       "\n",
       "    .dataframe tbody tr th {\n",
       "        vertical-align: top;\n",
       "    }\n",
       "\n",
       "    .dataframe thead th {\n",
       "        text-align: right;\n",
       "    }\n",
       "</style>\n",
       "<table border=\"1\" class=\"dataframe\">\n",
       "  <thead>\n",
       "    <tr style=\"text-align: right;\">\n",
       "      <th></th>\n",
       "      <th>Player</th>\n",
       "      <th>Span</th>\n",
       "      <th>Mat</th>\n",
       "      <th>Inns</th>\n",
       "      <th>NO</th>\n",
       "      <th>Runs</th>\n",
       "      <th>HS</th>\n",
       "      <th>Ave</th>\n",
       "      <th>SR</th>\n",
       "      <th>100</th>\n",
       "      <th>50</th>\n",
       "      <th>0</th>\n",
       "      <th>team_name</th>\n",
       "    </tr>\n",
       "  </thead>\n",
       "  <tbody>\n",
       "    <tr>\n",
       "      <th>0</th>\n",
       "      <td>P Amarnath</td>\n",
       "      <td>2008-2008</td>\n",
       "      <td>6</td>\n",
       "      <td>-</td>\n",
       "      <td>-</td>\n",
       "      <td>-</td>\n",
       "      <td>-</td>\n",
       "      <td>0.00</td>\n",
       "      <td>0.00</td>\n",
       "      <td>-</td>\n",
       "      <td>-</td>\n",
       "      <td>-</td>\n",
       "      <td>Chennai Super Kings</td>\n",
       "    </tr>\n",
       "    <tr>\n",
       "      <th>1</th>\n",
       "      <td>Akash Singh</td>\n",
       "      <td>2023-2023</td>\n",
       "      <td>6</td>\n",
       "      <td>-</td>\n",
       "      <td>-</td>\n",
       "      <td>-</td>\n",
       "      <td>-</td>\n",
       "      <td>0.00</td>\n",
       "      <td>0.00</td>\n",
       "      <td>-</td>\n",
       "      <td>-</td>\n",
       "      <td>-</td>\n",
       "      <td>Chennai Super Kings</td>\n",
       "    </tr>\n",
       "    <tr>\n",
       "      <th>2</th>\n",
       "      <td>MM Ali</td>\n",
       "      <td>2021-2024</td>\n",
       "      <td>48</td>\n",
       "      <td>40</td>\n",
       "      <td>4</td>\n",
       "      <td>853</td>\n",
       "      <td>93</td>\n",
       "      <td>23.69</td>\n",
       "      <td>136.26</td>\n",
       "      <td>-</td>\n",
       "      <td>3</td>\n",
       "      <td>4</td>\n",
       "      <td>Chennai Super Kings</td>\n",
       "    </tr>\n",
       "    <tr>\n",
       "      <th>3</th>\n",
       "      <td>S Anirudha</td>\n",
       "      <td>2008-2013</td>\n",
       "      <td>19</td>\n",
       "      <td>12</td>\n",
       "      <td>5</td>\n",
       "      <td>133</td>\n",
       "      <td>64</td>\n",
       "      <td>19.00</td>\n",
       "      <td>123.14</td>\n",
       "      <td>-</td>\n",
       "      <td>1</td>\n",
       "      <td>2</td>\n",
       "      <td>Chennai Super Kings</td>\n",
       "    </tr>\n",
       "    <tr>\n",
       "      <th>4</th>\n",
       "      <td>KB Arun Karthik</td>\n",
       "      <td>2010-2010</td>\n",
       "      <td>1</td>\n",
       "      <td>1</td>\n",
       "      <td>1</td>\n",
       "      <td>3</td>\n",
       "      <td>3*</td>\n",
       "      <td>0.00</td>\n",
       "      <td>60.00</td>\n",
       "      <td>-</td>\n",
       "      <td>-</td>\n",
       "      <td>-</td>\n",
       "      <td>Chennai Super Kings</td>\n",
       "    </tr>\n",
       "  </tbody>\n",
       "</table>\n",
       "</div>"
      ],
      "text/plain": [
       "            Player       Span Mat Inns NO Runs  HS    Ave      SR 100 50  0  \\\n",
       "0       P Amarnath  2008-2008   6    -  -    -   -   0.00    0.00   -  -  -   \n",
       "1      Akash Singh  2023-2023   6    -  -    -   -   0.00    0.00   -  -  -   \n",
       "2           MM Ali  2021-2024  48   40  4  853  93  23.69  136.26   -  3  4   \n",
       "3       S Anirudha  2008-2013  19   12  5  133  64  19.00  123.14   -  1  2   \n",
       "4  KB Arun Karthik  2010-2010   1    1  1    3  3*   0.00   60.00   -  -  -   \n",
       "\n",
       "              team_name  \n",
       "0   Chennai Super Kings  \n",
       "1   Chennai Super Kings  \n",
       "2   Chennai Super Kings  \n",
       "3   Chennai Super Kings  \n",
       "4   Chennai Super Kings  "
      ]
     },
     "execution_count": 31,
     "metadata": {},
     "output_type": "execute_result"
    }
   ],
   "source": [
    "ipl_batting_averages.head()"
   ]
  },
  {
   "cell_type": "code",
   "execution_count": 32,
   "id": "0423551c-6be3-4194-a2c6-8a107d698efe",
   "metadata": {},
   "outputs": [
    {
     "data": {
      "text/plain": [
       "(1386, 13)"
      ]
     },
     "execution_count": 32,
     "metadata": {},
     "output_type": "execute_result"
    }
   ],
   "source": [
    "ipl_batting_averages.shape"
   ]
  },
  {
   "cell_type": "code",
   "execution_count": 37,
   "id": "620f1e86-0aba-4720-b47f-8278e28592fb",
   "metadata": {},
   "outputs": [],
   "source": [
    "ipl_bowling_averages=pd.DataFrame(bowling_averages)"
   ]
  },
  {
   "cell_type": "code",
   "execution_count": 38,
   "id": "af0027aa-ca11-4296-b2d0-996f397077ec",
   "metadata": {},
   "outputs": [
    {
     "data": {
      "text/html": [
       "<div>\n",
       "<style scoped>\n",
       "    .dataframe tbody tr th:only-of-type {\n",
       "        vertical-align: middle;\n",
       "    }\n",
       "\n",
       "    .dataframe tbody tr th {\n",
       "        vertical-align: top;\n",
       "    }\n",
       "\n",
       "    .dataframe thead th {\n",
       "        text-align: right;\n",
       "    }\n",
       "</style>\n",
       "<table border=\"1\" class=\"dataframe\">\n",
       "  <thead>\n",
       "    <tr style=\"text-align: right;\">\n",
       "      <th></th>\n",
       "      <th>Player</th>\n",
       "      <th>Span</th>\n",
       "      <th>Mat</th>\n",
       "      <th>Inns</th>\n",
       "      <th>Balls</th>\n",
       "      <th>Mdns</th>\n",
       "      <th>Runs</th>\n",
       "      <th>Wkts</th>\n",
       "      <th>BBI</th>\n",
       "      <th>Ave</th>\n",
       "      <th>Econ</th>\n",
       "      <th>SR</th>\n",
       "      <th>5</th>\n",
       "      <th>10</th>\n",
       "      <th>Ct</th>\n",
       "      <th>St</th>\n",
       "      <th>team_name</th>\n",
       "    </tr>\n",
       "  </thead>\n",
       "  <tbody>\n",
       "    <tr>\n",
       "      <th>0</th>\n",
       "      <td>P Amarnath</td>\n",
       "      <td>2008-2008</td>\n",
       "      <td>6</td>\n",
       "      <td>6</td>\n",
       "      <td>132</td>\n",
       "      <td>-</td>\n",
       "      <td>236</td>\n",
       "      <td>7</td>\n",
       "      <td>2/29</td>\n",
       "      <td>33.71</td>\n",
       "      <td>10.72</td>\n",
       "      <td>18.8</td>\n",
       "      <td>-</td>\n",
       "      <td>-</td>\n",
       "      <td>2</td>\n",
       "      <td>-</td>\n",
       "      <td>Chennai Super Kings</td>\n",
       "    </tr>\n",
       "    <tr>\n",
       "      <th>1</th>\n",
       "      <td>Akash Singh</td>\n",
       "      <td>2023-2023</td>\n",
       "      <td>6</td>\n",
       "      <td>6</td>\n",
       "      <td>114</td>\n",
       "      <td>-</td>\n",
       "      <td>188</td>\n",
       "      <td>5</td>\n",
       "      <td>2/40</td>\n",
       "      <td>37.60</td>\n",
       "      <td>9.89</td>\n",
       "      <td>22.8</td>\n",
       "      <td>-</td>\n",
       "      <td>-</td>\n",
       "      <td>1</td>\n",
       "      <td>-</td>\n",
       "      <td>Chennai Super Kings</td>\n",
       "    </tr>\n",
       "    <tr>\n",
       "      <th>2</th>\n",
       "      <td>MM Ali</td>\n",
       "      <td>2021-2024</td>\n",
       "      <td>48</td>\n",
       "      <td>35</td>\n",
       "      <td>499</td>\n",
       "      <td>-</td>\n",
       "      <td>585</td>\n",
       "      <td>25</td>\n",
       "      <td>4/26</td>\n",
       "      <td>23.40</td>\n",
       "      <td>7.03</td>\n",
       "      <td>19.9</td>\n",
       "      <td>-</td>\n",
       "      <td>-</td>\n",
       "      <td>18</td>\n",
       "      <td>-</td>\n",
       "      <td>Chennai Super Kings</td>\n",
       "    </tr>\n",
       "    <tr>\n",
       "      <th>3</th>\n",
       "      <td>S Anirudha</td>\n",
       "      <td>2008-2013</td>\n",
       "      <td>19</td>\n",
       "      <td>-</td>\n",
       "      <td>0</td>\n",
       "      <td>-</td>\n",
       "      <td>-</td>\n",
       "      <td>-</td>\n",
       "      <td>-</td>\n",
       "      <td>0.00</td>\n",
       "      <td>-</td>\n",
       "      <td>-</td>\n",
       "      <td>-</td>\n",
       "      <td>-</td>\n",
       "      <td>11</td>\n",
       "      <td>-</td>\n",
       "      <td>Chennai Super Kings</td>\n",
       "    </tr>\n",
       "    <tr>\n",
       "      <th>4</th>\n",
       "      <td>KB Arun Karthik</td>\n",
       "      <td>2010-2010</td>\n",
       "      <td>1</td>\n",
       "      <td>-</td>\n",
       "      <td>0</td>\n",
       "      <td>-</td>\n",
       "      <td>-</td>\n",
       "      <td>-</td>\n",
       "      <td>-</td>\n",
       "      <td>0.00</td>\n",
       "      <td>-</td>\n",
       "      <td>-</td>\n",
       "      <td>-</td>\n",
       "      <td>-</td>\n",
       "      <td>-</td>\n",
       "      <td>-</td>\n",
       "      <td>Chennai Super Kings</td>\n",
       "    </tr>\n",
       "  </tbody>\n",
       "</table>\n",
       "</div>"
      ],
      "text/plain": [
       "            Player       Span Mat Inns Balls Mdns Runs Wkts   BBI    Ave  \\\n",
       "0       P Amarnath  2008-2008   6    6   132    -  236    7  2/29  33.71   \n",
       "1      Akash Singh  2023-2023   6    6   114    -  188    5  2/40  37.60   \n",
       "2           MM Ali  2021-2024  48   35   499    -  585   25  4/26  23.40   \n",
       "3       S Anirudha  2008-2013  19    -     0    -    -    -     -   0.00   \n",
       "4  KB Arun Karthik  2010-2010   1    -     0    -    -    -     -   0.00   \n",
       "\n",
       "    Econ    SR  5 10  Ct St             team_name  \n",
       "0  10.72  18.8  -  -   2  -   Chennai Super Kings  \n",
       "1   9.89  22.8  -  -   1  -   Chennai Super Kings  \n",
       "2   7.03  19.9  -  -  18  -   Chennai Super Kings  \n",
       "3      -     -  -  -  11  -   Chennai Super Kings  \n",
       "4      -     -  -  -   -  -   Chennai Super Kings  "
      ]
     },
     "execution_count": 38,
     "metadata": {},
     "output_type": "execute_result"
    }
   ],
   "source": [
    "ipl_bowling_averages.head()"
   ]
  },
  {
   "cell_type": "code",
   "execution_count": 39,
   "id": "1d648333-34b9-440f-a70d-9b92518af7bb",
   "metadata": {},
   "outputs": [
    {
     "data": {
      "text/plain": [
       "(1386, 17)"
      ]
     },
     "execution_count": 39,
     "metadata": {},
     "output_type": "execute_result"
    }
   ],
   "source": [
    "ipl_bowling_averages.shape"
   ]
  },
  {
   "cell_type": "code",
   "execution_count": 42,
   "id": "cb3d03f9-fb32-4a25-9297-3df6bdfe93c9",
   "metadata": {},
   "outputs": [],
   "source": [
    "ipl_bowling_averages.to_csv('ipl_bowling_averages.csv')"
   ]
  },
  {
   "cell_type": "code",
   "execution_count": 43,
   "id": "92ecc90b-44be-4176-a493-385c5c9208c9",
   "metadata": {},
   "outputs": [],
   "source": [
    "ipl_batting_averages.to_csv('ipl_batting_averages.csv')"
   ]
  },
  {
   "cell_type": "markdown",
   "id": "566c33c7-0fc7-4a94-8372-9dd46530912e",
   "metadata": {},
   "source": [
    "If you want you can also keep other two blocks in the function"
   ]
  },
  {
   "cell_type": "code",
   "execution_count": null,
   "id": "4ed8b576-3802-476d-8c0d-84df1a264b4f",
   "metadata": {},
   "outputs": [],
   "source": []
  }
 ],
 "metadata": {
  "kernelspec": {
   "display_name": "Python 3 (ipykernel)",
   "language": "python",
   "name": "python3"
  },
  "language_info": {
   "codemirror_mode": {
    "name": "ipython",
    "version": 3
   },
   "file_extension": ".py",
   "mimetype": "text/x-python",
   "name": "python",
   "nbconvert_exporter": "python",
   "pygments_lexer": "ipython3",
   "version": "3.12.4"
  }
 },
 "nbformat": 4,
 "nbformat_minor": 5
}
